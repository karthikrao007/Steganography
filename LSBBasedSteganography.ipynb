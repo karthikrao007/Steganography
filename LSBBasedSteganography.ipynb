{
 "cells": [
  {
   "cell_type": "code",
   "execution_count": 106,
   "id": "b17d51b5-0554-42ef-8476-8b4ec64a5c59",
   "metadata": {},
   "outputs": [],
   "source": [
    "#import library\n",
    "import numpy as np \n",
    "import matplotlib.pyplot as plt\n",
    "import cv2"
   ]
  },
  {
   "cell_type": "code",
   "execution_count": 94,
   "id": "44a99d1a-f115-4b9f-ab56-b321ff77265e",
   "metadata": {},
   "outputs": [],
   "source": [
    "d={chr(i):i for i in range(255)}  #character to ascii  \n",
    "c={i:chr(i) for i in range(255)}  #ascii to caharacter"
   ]
  },
  {
   "cell_type": "code",
   "execution_count": 95,
   "id": "82c922a6-57e0-48d9-9568-a6f736d59097",
   "metadata": {},
   "outputs": [],
   "source": [
    "#message and encryption key\n",
    "key=\"123\"\n",
    "text=\"Secret\""
   ]
  },
  {
   "cell_type": "code",
   "execution_count": 108,
   "id": "176fc173-8f60-4962-8481-8b1860a6be14",
   "metadata": {},
   "outputs": [
    {
     "data": {
      "image/png": "[encoded data removed]",
      "text/plain": [
       "<Figure size 640x480 with 1 Axes>"
      ]
     },
     "metadata": {},
     "output_type": "display_data"
    }
   ],
   "source": [
    "#loading the image\n",
    "image_path=r\"C:\\Users\\karth\\OneDrive\\Desktop\\CoverImage.png\"\n",
    "x=cv2.imread(image_path)\n",
    "x_rgb = cv2.cvtColor(x, cv2.COLOR_BGR2RGB)\n",
    "plt.imshow(x_rgb)\n",
    "plt.title(\"Input Image\")\n",
    "plt.axis(\"off\")  # Hide axis\n",
    "plt.show()"
   ]
  },
  {
   "cell_type": "code",
   "execution_count": 110,
   "id": "93d0b772-db08-494c-8b0f-b36b0d97bb12",
   "metadata": {},
   "outputs": [
    {
     "name": "stdout",
     "output_type": "stream",
     "text": [
      "Embedding bit (bit) of 'S' at (0, 0, 0) original=247 new=246\n",
      "Embedding bit (bit) of 'S' at (0, 0, 1) original=247 new=247\n",
      "Embedding bit (bit) of 'S' at (0, 0, 2) original=247 new=247\n",
      "Embedding bit (bit) of 'S' at (0, 1, 0) original=247 new=246\n",
      "Embedding bit (bit) of 'S' at (0, 1, 1) original=247 new=246\n",
      "Embedding bit (bit) of 'S' at (0, 1, 2) original=247 new=246\n",
      "Embedding bit (bit) of 'S' at (0, 2, 0) original=247 new=247\n",
      "Embedding bit (bit) of 'S' at (0, 2, 1) original=247 new=246\n",
      "Embedding bit (bit) of 'e' at (0, 2, 2) original=247 new=246\n",
      "Embedding bit (bit) of 'e' at (0, 3, 0) original=247 new=247\n",
      "Embedding bit (bit) of 'e' at (0, 3, 1) original=247 new=246\n",
      "Embedding bit (bit) of 'e' at (0, 3, 2) original=247 new=247\n",
      "Embedding bit (bit) of 'e' at (0, 4, 0) original=247 new=246\n",
      "Embedding bit (bit) of 'e' at (0, 4, 1) original=247 new=247\n",
      "Embedding bit (bit) of 'e' at (0, 4, 2) original=247 new=247\n",
      "Embedding bit (bit) of 'e' at (0, 5, 0) original=247 new=247\n",
      "Embedding bit (bit) of 'c' at (0, 5, 1) original=247 new=246\n",
      "Embedding bit (bit) of 'c' at (0, 5, 2) original=247 new=247\n",
      "Embedding bit (bit) of 'c' at (0, 6, 0) original=247 new=246\n",
      "Embedding bit (bit) of 'c' at (0, 6, 1) original=247 new=247\n",
      "Embedding bit (bit) of 'c' at (0, 6, 2) original=247 new=246\n",
      "Embedding bit (bit) of 'c' at (0, 7, 0) original=247 new=246\n",
      "Embedding bit (bit) of 'c' at (0, 7, 1) original=247 new=246\n",
      "Embedding bit (bit) of 'c' at (0, 7, 2) original=247 new=246\n",
      "Embedding bit (bit) of 'r' at (0, 8, 0) original=247 new=246\n",
      "Embedding bit (bit) of 'r' at (0, 8, 1) original=247 new=247\n",
      "Embedding bit (bit) of 'r' at (0, 8, 2) original=247 new=246\n",
      "Embedding bit (bit) of 'r' at (0, 9, 0) original=247 new=246\n",
      "Embedding bit (bit) of 'r' at (0, 9, 1) original=247 new=246\n",
      "Embedding bit (bit) of 'r' at (0, 9, 2) original=247 new=246\n",
      "Embedding bit (bit) of 'r' at (0, 10, 0) original=247 new=247\n",
      "Embedding bit (bit) of 'r' at (0, 10, 1) original=247 new=247\n",
      "Embedding bit (bit) of 'e' at (0, 10, 2) original=247 new=246\n",
      "Embedding bit (bit) of 'e' at (0, 11, 0) original=247 new=247\n",
      "Embedding bit (bit) of 'e' at (0, 11, 1) original=247 new=246\n",
      "Embedding bit (bit) of 'e' at (0, 11, 2) original=247 new=247\n",
      "Embedding bit (bit) of 'e' at (0, 12, 0) original=247 new=246\n",
      "Embedding bit (bit) of 'e' at (0, 12, 1) original=247 new=247\n",
      "Embedding bit (bit) of 'e' at (0, 12, 2) original=247 new=247\n",
      "Embedding bit (bit) of 'e' at (0, 13, 0) original=247 new=247\n",
      "Embedding bit (bit) of 't' at (0, 13, 1) original=247 new=246\n",
      "Embedding bit (bit) of 't' at (0, 13, 2) original=247 new=247\n",
      "Embedding bit (bit) of 't' at (0, 14, 0) original=247 new=246\n",
      "Embedding bit (bit) of 't' at (0, 14, 1) original=247 new=246\n",
      "Embedding bit (bit) of 't' at (0, 14, 2) original=247 new=246\n",
      "Embedding bit (bit) of 't' at (0, 15, 0) original=247 new=247\n",
      "Embedding bit (bit) of 't' at (0, 15, 1) original=247 new=247\n",
      "Embedding bit (bit) of 't' at (0, 15, 2) original=247 new=247\n"
     ]
    },
    {
     "data": {
      "image/png": "[encoded data removed]",
      "text/plain": [
       "<Figure size 640x480 with 1 Axes>"
      ]
     },
     "metadata": {},
     "output_type": "display_data"
    }
   ],
   "source": [
    "x_enc=x.copy()\n",
    "n=0  #number of rows\n",
    "m=0  #number of coloumns\n",
    "z=0  #colour panel\n",
    "l=len(text)\n",
    "kl=0\n",
    "for i in range(l):\n",
    "    char_var=d[text[i]]^d[key[kl]]\n",
    "    for bit_pos in range(8):\n",
    "        bit=(char_var >> (7-bit_pos))& 1\n",
    "        org_val =x_enc[n,m,z]\n",
    "        x_enc[n,m,z]=(org_val & ~1)| bit  \n",
    "        \n",
    "        print(f\"Embedding bit (bit) of '{text[i]}' at ({n}, {m}, {z}) original={org_val} new={x_enc[n, m, z]}\")\n",
    "        \n",
    "        z=(z+1)%3\n",
    "        if z==0: \n",
    "            m=m+1\n",
    "            if m==x_enc.shape[1]:\n",
    "                m=0\n",
    "                n=n+1\n",
    "    kl=(kl+1)%len(key)\n",
    "    cv2.imwrite(\"StegnoEncrypted_image.png\", x_enc)\n",
    "encrypted_img = cv2.imread(\"StegnoEncrypted_image.png\")\n",
    "encrypted_img_rgb = cv2.cvtColor(encrypted_img, cv2.COLOR_BGR2RGB)\n",
    "plt.imshow(encrypted_img_rgb)\n",
    "plt.title(\"Encrypted Image\")\n",
    "plt.axis(\"off\")\n",
    "plt.show()    \n",
    "    "
   ]
  },
  {
   "cell_type": "code",
   "execution_count": 102,
   "id": "04c0a155-8772-4065-8edf-380ecd328df2",
   "metadata": {},
   "outputs": [
    {
     "name": "stdout",
     "output_type": "stream",
     "text": [
      "Reading bit 0 from (0,0,0)\n",
      "Reading bit 1 from (0,0,1)\n",
      "Reading bit 1 from (0,0,2)\n",
      "Reading bit 0 from (0,1,0)\n",
      "Reading bit 0 from (0,1,1)\n",
      "Reading bit 0 from (0,1,2)\n",
      "Reading bit 1 from (0,2,0)\n",
      "Reading bit 0 from (0,2,1)\n",
      "Decrypted byte: 98 XOR 49 = 83 -> 'S'\n",
      "Reading bit 0 from (0,2,2)\n",
      "Reading bit 1 from (0,3,0)\n",
      "Reading bit 0 from (0,3,1)\n",
      "Reading bit 1 from (0,3,2)\n",
      "Reading bit 0 from (0,4,0)\n",
      "Reading bit 1 from (0,4,1)\n",
      "Reading bit 1 from (0,4,2)\n",
      "Reading bit 1 from (0,5,0)\n",
      "Decrypted byte: 87 XOR 50 = 101 -> 'e'\n",
      "Reading bit 0 from (0,5,1)\n",
      "Reading bit 1 from (0,5,2)\n",
      "Reading bit 0 from (0,6,0)\n",
      "Reading bit 1 from (0,6,1)\n",
      "Reading bit 0 from (0,6,2)\n",
      "Reading bit 0 from (0,7,0)\n",
      "Reading bit 0 from (0,7,1)\n",
      "Reading bit 0 from (0,7,2)\n",
      "Decrypted byte: 80 XOR 51 = 99 -> 'c'\n",
      "Reading bit 0 from (0,8,0)\n",
      "Reading bit 1 from (0,8,1)\n",
      "Reading bit 0 from (0,8,2)\n",
      "Reading bit 0 from (0,9,0)\n",
      "Reading bit 0 from (0,9,1)\n",
      "Reading bit 0 from (0,9,2)\n",
      "Reading bit 1 from (0,10,0)\n",
      "Reading bit 1 from (0,10,1)\n",
      "Decrypted byte: 67 XOR 49 = 114 -> 'r'\n",
      "Reading bit 0 from (0,10,2)\n",
      "Reading bit 1 from (0,11,0)\n",
      "Reading bit 0 from (0,11,1)\n",
      "Reading bit 1 from (0,11,2)\n",
      "Reading bit 0 from (0,12,0)\n",
      "Reading bit 1 from (0,12,1)\n",
      "Reading bit 1 from (0,12,2)\n",
      "Reading bit 1 from (0,13,0)\n",
      "Decrypted byte: 87 XOR 50 = 101 -> 'e'\n",
      "Reading bit 0 from (0,13,1)\n",
      "Reading bit 1 from (0,13,2)\n",
      "Reading bit 0 from (0,14,0)\n",
      "Reading bit 0 from (0,14,1)\n",
      "Reading bit 0 from (0,14,2)\n",
      "Reading bit 1 from (0,15,0)\n",
      "Reading bit 1 from (0,15,1)\n",
      "Reading bit 1 from (0,15,2)\n",
      "Decrypted byte: 71 XOR 51 = 116 -> 't'\n",
      "Decrypt text Secret\n"
     ]
    }
   ],
   "source": [
    "#decryption\n",
    "n,m,z=0,0,0\n",
    "kl=0\n",
    "l=len(text)\n",
    "decrypt=\"\"\n",
    "for i in range(l):\n",
    "    val=0\n",
    "    for bit_pos in range(8):\n",
    "        bit= x_enc[n,m,z]& 1\n",
    "        val=(val << 1) | bit\n",
    "        print(f\"Reading bit {bit} from ({n},{m},{z})\")\n",
    "        z=(z+1)%3\n",
    "        if z==0: \n",
    "            m=m+1\n",
    "            if m==x_enc.shape[1]:\n",
    "                m=0\n",
    "                n=n+1\n",
    "    orig_char= c[val ^ d[key[kl]]]\n",
    "    decrypt+=orig_char\n",
    "    print(f\"Decrypted byte: {val} XOR {d[key[kl]]} = {val ^ d[key[kl]]} -> '{orig_char}'\")\n",
    "    kl=(kl+1)%len(key)\n",
    "print(\"Decrypt text\", decrypt)\n"
   ]
  },
  {
   "cell_type": "code",
   "execution_count": null,
   "id": "585127ef-1199-4cff-b40a-227c9d5b4f3f",
   "metadata": {},
   "outputs": [],
   "source": []
  }
 ],
 "metadata": {
  "kernelspec": {
   "display_name": "Python 3 (ipykernel)",
   "language": "python",
   "name": "python3"
  },
  "language_info": {
   "codemirror_mode": {
    "name": "ipython",
    "version": 3
   },
   "file_extension": ".py",
   "mimetype": "text/x-python",
   "name": "python",
   "nbconvert_exporter": "python",
   "pygments_lexer": "ipython3",
   "version": "3.12.7"
  }
 },
 "nbformat": 4,
 "nbformat_minor": 5
}
